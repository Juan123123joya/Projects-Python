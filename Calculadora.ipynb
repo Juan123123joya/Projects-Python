{
 "cells": [
  {
   "cell_type": "code",
   "execution_count": null,
   "id": "e11e7808-bff5-4e87-8500-51e11a8960f2",
   "metadata": {},
   "outputs": [],
   "source": [
    "def get_number(number):\n",
    "    while True:\n",
    "        operand =input (\"Number: \")\n",
    "        try:\n",
    "            operand = float (operand)\n",
    "            break\n",
    "        except:\n",
    "            print(\"Invalid number, try again.\")\n",
    "    return operand \n",
    "\n",
    "\n",
    "operand = get_number(1)\n",
    "operand2 = get_number(2)\n",
    "result = 0\n",
    "sign = input(\"Sign: \")\n",
    "if sign == \"+\":\n",
    "    result = operand + operand2\n",
    "elif sign == \"_\":\n",
    "    result: operand -operand2\n",
    "elif sign ==\"/\":\n",
    "    if operand2 != 0:\n",
    "        result = operand / operand2\n",
    "    else:print(\"Division by zero.\")\n",
    "elif sign == \"*\":\n",
    "    result = operand * operand2\n",
    "else:\n",
    "    print(\"Invalid sign.\")\n",
    "print(result)"
   ]
  }
 ],
 "metadata": {
  "kernelspec": {
   "display_name": "Python 3 (ipykernel)",
   "language": "python",
   "name": "python3"
  },
  "language_info": {
   "codemirror_mode": {
    "name": "ipython",
    "version": 3
   },
   "file_extension": ".py",
   "mimetype": "text/x-python",
   "name": "python",
   "nbconvert_exporter": "python",
   "pygments_lexer": "ipython3",
   "version": "3.12.3"
  }
 },
 "nbformat": 4,
 "nbformat_minor": 5
}
